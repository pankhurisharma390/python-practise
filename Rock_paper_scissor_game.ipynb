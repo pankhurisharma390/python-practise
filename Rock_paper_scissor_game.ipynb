{
  "nbformat": 4,
  "nbformat_minor": 0,
  "metadata": {
    "colab": {
      "name": "Untitled0.ipynb",
      "provenance": [],
      "authorship_tag": "ABX9TyN9cGrPpQpaNA35ppOODVGb",
      "include_colab_link": true
    },
    "kernelspec": {
      "name": "python3",
      "display_name": "Python 3"
    }
  },
  "cells": [
    {
      "cell_type": "markdown",
      "metadata": {
        "id": "view-in-github",
        "colab_type": "text"
      },
      "source": [
        "<a href=\"https://colab.research.google.com/github/pankhurisharma390/python-practise/blob/master/Rock_paper_scissor_game.ipynb\" target=\"_parent\"><img src=\"https://colab.research.google.com/assets/colab-badge.svg\" alt=\"Open In Colab\"/></a>"
      ]
    },
    {
      "cell_type": "code",
      "metadata": {
        "id": "yMVrGtRHv7kj",
        "colab_type": "code",
        "colab": {
          "base_uri": "https://localhost:8080/",
          "height": 101
        },
        "outputId": "db97db04-f022-42a8-a446-861c9b60101d"
      },
      "source": [
        "import random\n",
        "player1=input(\"Enter your name player1: \")\n",
        "print(\"Selecting either rock, paper or scissor for \", player1)\n",
        "a=random.randint(0,2)\n",
        "player2=input(\"Enter your name player2: \")\n",
        "print(\"Selecting either rock, paper or scissor for \", player2)\n",
        "b=random.randint(0,2)\n",
        "#0-rock,1-paper,2-scissors\n",
        "if (a==0 and b==1):\n",
        "  print(\"Rock versus paper, %s won\" %player2)\n",
        "elif (a==1 and b==0):\n",
        "  print(\"Paper versus rock, %s won\" %player1)\n",
        "elif (a==0 and b==2):\n",
        "  print(\"Rock versus scissors, %s won\" %player1)\n",
        "elif (a==2 and b==1):\n",
        "  print(\"Scissor versus rock, %s won\" %player2)\n",
        "elif (a==1 and b==2):\n",
        "  print(\"Paper versus scissors, %s won\" %player2)\n",
        "elif (a==2 and b==1):\n",
        "  print(\"Scissors versus paper, %s won\" %player1)\n",
        "else:\n",
        "  print(\"Tie , better luck next time\")\n"
      ],
      "execution_count": 10,
      "outputs": [
        {
          "output_type": "stream",
          "text": [
            "Enter your name player1: Petra\n",
            "Selecting either rock, paper or scissor for  Petra\n",
            "Enter your name player2: Ramos\n",
            "Selecting either rock, paper or scissor for  Ramos\n",
            "Paper versus rock, Petra won\n"
          ],
          "name": "stdout"
        }
      ]
    }
  ]
}